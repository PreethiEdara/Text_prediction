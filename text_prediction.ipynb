{
  "nbformat": 4,
  "nbformat_minor": 0,
  "metadata": {
    "colab": {
      "provenance": [],
      "authorship_tag": "ABX9TyOy2JAdbpe9Enn0OBDauyC6",
      "include_colab_link": true
    },
    "kernelspec": {
      "name": "python3",
      "display_name": "Python 3"
    },
    "language_info": {
      "name": "python"
    }
  },
  "cells": [
    {
      "cell_type": "markdown",
      "metadata": {
        "id": "view-in-github",
        "colab_type": "text"
      },
      "source": [
        "<a href=\"https://colab.research.google.com/github/PreethiEdara/Text_prediction/blob/main/text_prediction.ipynb\" target=\"_parent\"><img src=\"https://colab.research.google.com/assets/colab-badge.svg\" alt=\"Open In Colab\"/></a>"
      ]
    },
    {
      "cell_type": "markdown",
      "source": [
        "Import Libraries"
      ],
      "metadata": {
        "id": "7B6YmxqMOP9i"
      }
    },
    {
      "cell_type": "code",
      "source": [
        "import tensorflow as tf\n",
        "from tensorflow.keras.preprocessing.text import Tokenizer\n",
        "from tensorflow.keras.layers import Embedding, LSTM, Dense\n",
        "from tensorflow.keras.models import Sequential\n",
        "from tensorflow.keras.utils import to_categorical\n",
        "from tensorflow.keras.optimizers import Adam\n",
        "import pickle\n",
        "import numpy as np\n",
        "import os"
      ],
      "metadata": {
        "id": "JbRiFuI4OTJP"
      },
      "execution_count": 34,
      "outputs": []
    },
    {
      "cell_type": "code",
      "source": [
        "from google.colab import files\n",
        "uploaded = files.upload()"
      ],
      "metadata": {
        "colab": {
          "base_uri": "https://localhost:8080/",
          "height": 73
        },
        "id": "LKO98wDTOWaE",
        "outputId": "d7b16a5b-7fee-4c5d-9f0e-19525fb684ac"
      },
      "execution_count": 35,
      "outputs": [
        {
          "output_type": "display_data",
          "data": {
            "text/plain": [
              "<IPython.core.display.HTML object>"
            ],
            "text/html": [
              "\n",
              "     <input type=\"file\" id=\"files-adab18f0-5b4d-4bd9-9dad-2c542632249b\" name=\"files[]\" multiple disabled\n",
              "        style=\"border:none\" />\n",
              "     <output id=\"result-adab18f0-5b4d-4bd9-9dad-2c542632249b\">\n",
              "      Upload widget is only available when the cell has been executed in the\n",
              "      current browser session. Please rerun this cell to enable.\n",
              "      </output>\n",
              "      <script>// Copyright 2017 Google LLC\n",
              "//\n",
              "// Licensed under the Apache License, Version 2.0 (the \"License\");\n",
              "// you may not use this file except in compliance with the License.\n",
              "// You may obtain a copy of the License at\n",
              "//\n",
              "//      http://www.apache.org/licenses/LICENSE-2.0\n",
              "//\n",
              "// Unless required by applicable law or agreed to in writing, software\n",
              "// distributed under the License is distributed on an \"AS IS\" BASIS,\n",
              "// WITHOUT WARRANTIES OR CONDITIONS OF ANY KIND, either express or implied.\n",
              "// See the License for the specific language governing permissions and\n",
              "// limitations under the License.\n",
              "\n",
              "/**\n",
              " * @fileoverview Helpers for google.colab Python module.\n",
              " */\n",
              "(function(scope) {\n",
              "function span(text, styleAttributes = {}) {\n",
              "  const element = document.createElement('span');\n",
              "  element.textContent = text;\n",
              "  for (const key of Object.keys(styleAttributes)) {\n",
              "    element.style[key] = styleAttributes[key];\n",
              "  }\n",
              "  return element;\n",
              "}\n",
              "\n",
              "// Max number of bytes which will be uploaded at a time.\n",
              "const MAX_PAYLOAD_SIZE = 100 * 1024;\n",
              "\n",
              "function _uploadFiles(inputId, outputId) {\n",
              "  const steps = uploadFilesStep(inputId, outputId);\n",
              "  const outputElement = document.getElementById(outputId);\n",
              "  // Cache steps on the outputElement to make it available for the next call\n",
              "  // to uploadFilesContinue from Python.\n",
              "  outputElement.steps = steps;\n",
              "\n",
              "  return _uploadFilesContinue(outputId);\n",
              "}\n",
              "\n",
              "// This is roughly an async generator (not supported in the browser yet),\n",
              "// where there are multiple asynchronous steps and the Python side is going\n",
              "// to poll for completion of each step.\n",
              "// This uses a Promise to block the python side on completion of each step,\n",
              "// then passes the result of the previous step as the input to the next step.\n",
              "function _uploadFilesContinue(outputId) {\n",
              "  const outputElement = document.getElementById(outputId);\n",
              "  const steps = outputElement.steps;\n",
              "\n",
              "  const next = steps.next(outputElement.lastPromiseValue);\n",
              "  return Promise.resolve(next.value.promise).then((value) => {\n",
              "    // Cache the last promise value to make it available to the next\n",
              "    // step of the generator.\n",
              "    outputElement.lastPromiseValue = value;\n",
              "    return next.value.response;\n",
              "  });\n",
              "}\n",
              "\n",
              "/**\n",
              " * Generator function which is called between each async step of the upload\n",
              " * process.\n",
              " * @param {string} inputId Element ID of the input file picker element.\n",
              " * @param {string} outputId Element ID of the output display.\n",
              " * @return {!Iterable<!Object>} Iterable of next steps.\n",
              " */\n",
              "function* uploadFilesStep(inputId, outputId) {\n",
              "  const inputElement = document.getElementById(inputId);\n",
              "  inputElement.disabled = false;\n",
              "\n",
              "  const outputElement = document.getElementById(outputId);\n",
              "  outputElement.innerHTML = '';\n",
              "\n",
              "  const pickedPromise = new Promise((resolve) => {\n",
              "    inputElement.addEventListener('change', (e) => {\n",
              "      resolve(e.target.files);\n",
              "    });\n",
              "  });\n",
              "\n",
              "  const cancel = document.createElement('button');\n",
              "  inputElement.parentElement.appendChild(cancel);\n",
              "  cancel.textContent = 'Cancel upload';\n",
              "  const cancelPromise = new Promise((resolve) => {\n",
              "    cancel.onclick = () => {\n",
              "      resolve(null);\n",
              "    };\n",
              "  });\n",
              "\n",
              "  // Wait for the user to pick the files.\n",
              "  const files = yield {\n",
              "    promise: Promise.race([pickedPromise, cancelPromise]),\n",
              "    response: {\n",
              "      action: 'starting',\n",
              "    }\n",
              "  };\n",
              "\n",
              "  cancel.remove();\n",
              "\n",
              "  // Disable the input element since further picks are not allowed.\n",
              "  inputElement.disabled = true;\n",
              "\n",
              "  if (!files) {\n",
              "    return {\n",
              "      response: {\n",
              "        action: 'complete',\n",
              "      }\n",
              "    };\n",
              "  }\n",
              "\n",
              "  for (const file of files) {\n",
              "    const li = document.createElement('li');\n",
              "    li.append(span(file.name, {fontWeight: 'bold'}));\n",
              "    li.append(span(\n",
              "        `(${file.type || 'n/a'}) - ${file.size} bytes, ` +\n",
              "        `last modified: ${\n",
              "            file.lastModifiedDate ? file.lastModifiedDate.toLocaleDateString() :\n",
              "                                    'n/a'} - `));\n",
              "    const percent = span('0% done');\n",
              "    li.appendChild(percent);\n",
              "\n",
              "    outputElement.appendChild(li);\n",
              "\n",
              "    const fileDataPromise = new Promise((resolve) => {\n",
              "      const reader = new FileReader();\n",
              "      reader.onload = (e) => {\n",
              "        resolve(e.target.result);\n",
              "      };\n",
              "      reader.readAsArrayBuffer(file);\n",
              "    });\n",
              "    // Wait for the data to be ready.\n",
              "    let fileData = yield {\n",
              "      promise: fileDataPromise,\n",
              "      response: {\n",
              "        action: 'continue',\n",
              "      }\n",
              "    };\n",
              "\n",
              "    // Use a chunked sending to avoid message size limits. See b/62115660.\n",
              "    let position = 0;\n",
              "    do {\n",
              "      const length = Math.min(fileData.byteLength - position, MAX_PAYLOAD_SIZE);\n",
              "      const chunk = new Uint8Array(fileData, position, length);\n",
              "      position += length;\n",
              "\n",
              "      const base64 = btoa(String.fromCharCode.apply(null, chunk));\n",
              "      yield {\n",
              "        response: {\n",
              "          action: 'append',\n",
              "          file: file.name,\n",
              "          data: base64,\n",
              "        },\n",
              "      };\n",
              "\n",
              "      let percentDone = fileData.byteLength === 0 ?\n",
              "          100 :\n",
              "          Math.round((position / fileData.byteLength) * 100);\n",
              "      percent.textContent = `${percentDone}% done`;\n",
              "\n",
              "    } while (position < fileData.byteLength);\n",
              "  }\n",
              "\n",
              "  // All done.\n",
              "  yield {\n",
              "    response: {\n",
              "      action: 'complete',\n",
              "    }\n",
              "  };\n",
              "}\n",
              "\n",
              "scope.google = scope.google || {};\n",
              "scope.google.colab = scope.google.colab || {};\n",
              "scope.google.colab._files = {\n",
              "  _uploadFiles,\n",
              "  _uploadFilesContinue,\n",
              "};\n",
              "})(self);\n",
              "</script> "
            ]
          },
          "metadata": {}
        },
        {
          "output_type": "stream",
          "name": "stdout",
          "text": [
            "Saving dataset1.txt to dataset1.txt\n"
          ]
        }
      ]
    },
    {
      "cell_type": "code",
      "source": [
        "file = open(\"dataset1.txt\", \"r\", encoding = \"utf8\")\n",
        "\n",
        "# store file in list\n",
        "lines = []\n",
        "for i in file:\n",
        "    lines.append(i)\n",
        "\n",
        "# Convert list to string\n",
        "data = \"\"\n",
        "for i in lines:\n",
        "  data = ' '. join(lines) \n",
        "\n",
        "#replace unnecessary stuff with space\n",
        "data = data.replace('\\n', '').replace('\\r', '').replace('\\ufeff', '').replace('“','').replace('”','')  #new line, carriage return, unicode character --> replace by space\n",
        "\n",
        "#remove unnecessary spaces \n",
        "data = data.split()\n",
        "data = ' '.join(data)\n",
        "data[:500]"
      ],
      "metadata": {
        "colab": {
          "base_uri": "https://localhost:8080/",
          "height": 87
        },
        "id": "nuhc-KrUOhhs",
        "outputId": "da3db0e0-472d-40e5-ad85-87c89e51cd51"
      },
      "execution_count": 37,
      "outputs": [
        {
          "output_type": "execute_result",
          "data": {
            "text/plain": [
              "'One morning, when Gregor Samsa woke from troubled dreams, he found himself transformed in his bed into a horrible vermin. He lay on his armour-like back, and if he lifted his head a little he could see his brown belly, slightly domed and divided by arches into stiff sections. The bedding was hardly able to cover it and seemed ready to slide off any moment. His many legs, pitifully thin compared with the size of the rest of him, waved about helplessly as he looked. \"What\\'s happened to me?\" he tho'"
            ],
            "application/vnd.google.colaboratory.intrinsic+json": {
              "type": "string"
            }
          },
          "metadata": {},
          "execution_count": 37
        }
      ]
    },
    {
      "cell_type": "code",
      "source": [
        "len(data)\n"
      ],
      "metadata": {
        "colab": {
          "base_uri": "https://localhost:8080/"
        },
        "id": "wujJ1V2YOque",
        "outputId": "6d8a2491-ea08-4075-daba-0055aa6bb19e"
      },
      "execution_count": 38,
      "outputs": [
        {
          "output_type": "execute_result",
          "data": {
            "text/plain": [
              "39241"
            ]
          },
          "metadata": {},
          "execution_count": 38
        }
      ]
    },
    {
      "cell_type": "markdown",
      "source": [
        "Apply tokenization and some other changes"
      ],
      "metadata": {
        "id": "JUFNb3z3OxfG"
      }
    },
    {
      "cell_type": "code",
      "source": [
        "tokenizer = Tokenizer()\n",
        "tokenizer.fit_on_texts([data])\n",
        "\n",
        "# saving the tokenizer for predict function\n",
        "pickle.dump(tokenizer, open('token.pkl', 'wb'))\n",
        "\n",
        "sequence_data = tokenizer.texts_to_sequences([data])[0]\n",
        "sequence_data[:15]\n"
      ],
      "metadata": {
        "colab": {
          "base_uri": "https://localhost:8080/"
        },
        "id": "mbHErNx5OyQK",
        "outputId": "e8c8a871-96f3-4943-c57b-8a04377681b8"
      },
      "execution_count": 39,
      "outputs": [
        {
          "output_type": "execute_result",
          "data": {
            "text/plain": [
              "[51, 164, 52, 14, 165, 661, 32, 662, 437, 3, 251, 26, 663, 10, 5]"
            ]
          },
          "metadata": {},
          "execution_count": 39
        }
      ]
    },
    {
      "cell_type": "code",
      "source": [
        "len(sequence_data)\n"
      ],
      "metadata": {
        "colab": {
          "base_uri": "https://localhost:8080/"
        },
        "id": "z2weNNZmO4T0",
        "outputId": "41047755-6ca9-4260-dce6-e160bc2af3a9"
      },
      "execution_count": 40,
      "outputs": [
        {
          "output_type": "execute_result",
          "data": {
            "text/plain": [
              "7333"
            ]
          },
          "metadata": {},
          "execution_count": 40
        }
      ]
    },
    {
      "cell_type": "code",
      "source": [
        "vocab_size = len(tokenizer.word_index) + 1\n",
        "print(vocab_size)"
      ],
      "metadata": {
        "colab": {
          "base_uri": "https://localhost:8080/"
        },
        "id": "hqRwQ6RKO7F7",
        "outputId": "81856108-d4c7-47e8-ba4b-e94d6cc4dd6b"
      },
      "execution_count": 41,
      "outputs": [
        {
          "output_type": "stream",
          "name": "stdout",
          "text": [
            "1399\n"
          ]
        }
      ]
    },
    {
      "cell_type": "code",
      "source": [
        "sequences = []\n",
        "\n",
        "for i in range(3, len(sequence_data)):\n",
        "    words = sequence_data[i-3:i+1]\n",
        "    sequences.append(words)\n",
        "    \n",
        "print(\"The Length of sequences are: \", len(sequences))\n",
        "sequences = np.array(sequences)\n",
        "sequences[:10]"
      ],
      "metadata": {
        "colab": {
          "base_uri": "https://localhost:8080/"
        },
        "id": "it9jOKG5O9Ew",
        "outputId": "670f2644-e38e-46ac-92b4-069009e13b32"
      },
      "execution_count": 42,
      "outputs": [
        {
          "output_type": "stream",
          "name": "stdout",
          "text": [
            "The Length of sequences are:  7330\n"
          ]
        },
        {
          "output_type": "execute_result",
          "data": {
            "text/plain": [
              "array([[ 51, 164,  52,  14],\n",
              "       [164,  52,  14, 165],\n",
              "       [ 52,  14, 165, 661],\n",
              "       [ 14, 165, 661,  32],\n",
              "       [165, 661,  32, 662],\n",
              "       [661,  32, 662, 437],\n",
              "       [ 32, 662, 437,   3],\n",
              "       [662, 437,   3, 251],\n",
              "       [437,   3, 251,  26],\n",
              "       [  3, 251,  26, 663]])"
            ]
          },
          "metadata": {},
          "execution_count": 42
        }
      ]
    },
    {
      "cell_type": "code",
      "source": [
        "X = []\n",
        "y = []\n",
        "\n",
        "for i in sequences:\n",
        "    X.append(i[0:3])\n",
        "    y.append(i[3])\n",
        "    \n",
        "X = np.array(X)\n",
        "y = np.array(y)\n"
      ],
      "metadata": {
        "id": "w90_mExiPCgg"
      },
      "execution_count": 43,
      "outputs": []
    },
    {
      "cell_type": "code",
      "source": [
        "print(\"Data: \", X[:10])\n",
        "print(\"Response: \", y[:10])"
      ],
      "metadata": {
        "colab": {
          "base_uri": "https://localhost:8080/"
        },
        "id": "ItAdb6ggPGuy",
        "outputId": "46fd37f5-c590-4484-c255-1630edc53d35"
      },
      "execution_count": 44,
      "outputs": [
        {
          "output_type": "stream",
          "name": "stdout",
          "text": [
            "Data:  [[ 51 164  52]\n",
            " [164  52  14]\n",
            " [ 52  14 165]\n",
            " [ 14 165 661]\n",
            " [165 661  32]\n",
            " [661  32 662]\n",
            " [ 32 662 437]\n",
            " [662 437   3]\n",
            " [437   3 251]\n",
            " [  3 251  26]]\n",
            "Response:  [ 14 165 661  32 662 437   3 251  26 663]\n"
          ]
        }
      ]
    },
    {
      "cell_type": "code",
      "source": [
        "y = to_categorical(y, num_classes=vocab_size)\n",
        "y[:5]"
      ],
      "metadata": {
        "colab": {
          "base_uri": "https://localhost:8080/"
        },
        "id": "WYwEHYHcPKYT",
        "outputId": "c61319d4-4063-434c-c76a-dddcc6e00246"
      },
      "execution_count": 45,
      "outputs": [
        {
          "output_type": "execute_result",
          "data": {
            "text/plain": [
              "array([[0., 0., 0., ..., 0., 0., 0.],\n",
              "       [0., 0., 0., ..., 0., 0., 0.],\n",
              "       [0., 0., 0., ..., 0., 0., 0.],\n",
              "       [0., 0., 0., ..., 0., 0., 0.],\n",
              "       [0., 0., 0., ..., 0., 0., 0.]], dtype=float32)"
            ]
          },
          "metadata": {},
          "execution_count": 45
        }
      ]
    },
    {
      "cell_type": "markdown",
      "source": [
        "creating the model"
      ],
      "metadata": {
        "id": "iaEb-XC4PPO7"
      }
    },
    {
      "cell_type": "code",
      "source": [
        "model = Sequential()\n",
        "model.add(Embedding(vocab_size, 10, input_length=3))\n",
        "model.add(LSTM(1000, return_sequences=True))\n",
        "model.add(LSTM(1000))\n",
        "model.add(Dense(1000, activation=\"relu\"))\n",
        "model.add(Dense(vocab_size, activation=\"softmax\"))"
      ],
      "metadata": {
        "id": "9ktKMJ14PNu-"
      },
      "execution_count": 46,
      "outputs": []
    },
    {
      "cell_type": "code",
      "source": [
        "model.summary()\n"
      ],
      "metadata": {
        "colab": {
          "base_uri": "https://localhost:8080/"
        },
        "id": "lPmwV40hPXIT",
        "outputId": "d455d386-11c9-4de3-d74e-8b8367c29fa8"
      },
      "execution_count": 47,
      "outputs": [
        {
          "output_type": "stream",
          "name": "stdout",
          "text": [
            "Model: \"sequential_2\"\n",
            "_________________________________________________________________\n",
            " Layer (type)                Output Shape              Param #   \n",
            "=================================================================\n",
            " embedding_2 (Embedding)     (None, 3, 10)             13990     \n",
            "                                                                 \n",
            " lstm_4 (LSTM)               (None, 3, 1000)           4044000   \n",
            "                                                                 \n",
            " lstm_5 (LSTM)               (None, 1000)              8004000   \n",
            "                                                                 \n",
            " dense_4 (Dense)             (None, 1000)              1001000   \n",
            "                                                                 \n",
            " dense_5 (Dense)             (None, 1399)              1400399   \n",
            "                                                                 \n",
            "=================================================================\n",
            "Total params: 14,463,389\n",
            "Trainable params: 14,463,389\n",
            "Non-trainable params: 0\n",
            "_________________________________________________________________\n"
          ]
        }
      ]
    },
    {
      "cell_type": "markdown",
      "source": [
        "Plot the model"
      ],
      "metadata": {
        "id": "Xbd2AwI8PY3c"
      }
    },
    {
      "cell_type": "code",
      "source": [
        "from tensorflow import keras\n",
        "from keras.utils.vis_utils import plot_model\n",
        "\n",
        "keras.utils.plot_model(model, to_file='plot.png', show_layer_names=True)"
      ],
      "metadata": {
        "colab": {
          "base_uri": "https://localhost:8080/",
          "height": 564
        },
        "id": "KVd2BYncPax1",
        "outputId": "0380b066-6b6a-41e6-e32e-08cfea01a07d"
      },
      "execution_count": 48,
      "outputs": [
        {
          "output_type": "execute_result",
          "data": {
            "image/png": "[encoded data removed]",
            "text/plain": [
              "<IPython.core.display.Image object>"
            ]
          },
          "metadata": {},
          "execution_count": 48
        }
      ]
    },
    {
      "cell_type": "markdown",
      "source": [
        "Train the model"
      ],
      "metadata": {
        "id": "ziLBLbQDPjce"
      }
    },
    {
      "cell_type": "code",
      "source": [
        "from tensorflow.keras.callbacks import ModelCheckpoint\n",
        "\n",
        "checkpoint = ModelCheckpoint(\"next_words.h5\", monitor='loss', verbose=1, save_best_only=True)\n",
        "model.compile(loss=\"categorical_crossentropy\", optimizer=Adam(learning_rate=0.001))\n",
        "model.fit(X, y, epochs=70, batch_size=64, callbacks=[checkpoint])"
      ],
      "metadata": {
        "colab": {
          "base_uri": "https://localhost:8080/"
        },
        "id": "P262rCQIPme5",
        "outputId": "0eef4676-3f81-4132-f34d-529b2bc12619"
      },
      "execution_count": 49,
      "outputs": [
        {
          "output_type": "stream",
          "name": "stdout",
          "text": [
            "Epoch 1/70\n",
            "115/115 [==============================] - ETA: 0s - loss: 6.3047\n",
            "Epoch 1: loss improved from inf to 6.30473, saving model to next_words.h5\n",
            "115/115 [==============================] - 83s 679ms/step - loss: 6.3047\n",
            "Epoch 2/70\n",
            "115/115 [==============================] - ETA: 0s - loss: 5.9652\n",
            "Epoch 2: loss improved from 6.30473 to 5.96524, saving model to next_words.h5\n",
            "115/115 [==============================] - 79s 686ms/step - loss: 5.9652\n",
            "Epoch 3/70\n",
            "115/115 [==============================] - ETA: 0s - loss: 5.8918\n",
            "Epoch 3: loss improved from 5.96524 to 5.89177, saving model to next_words.h5\n",
            "115/115 [==============================] - 75s 655ms/step - loss: 5.8918\n",
            "Epoch 4/70\n",
            "115/115 [==============================] - ETA: 0s - loss: 5.7222\n",
            "Epoch 4: loss improved from 5.89177 to 5.72225, saving model to next_words.h5\n",
            "115/115 [==============================] - 75s 656ms/step - loss: 5.7222\n",
            "Epoch 5/70\n",
            "115/115 [==============================] - ETA: 0s - loss: 5.4710\n",
            "Epoch 5: loss improved from 5.72225 to 5.47099, saving model to next_words.h5\n",
            "115/115 [==============================] - 74s 641ms/step - loss: 5.4710\n",
            "Epoch 6/70\n",
            "115/115 [==============================] - ETA: 0s - loss: 5.2763\n",
            "Epoch 6: loss improved from 5.47099 to 5.27630, saving model to next_words.h5\n",
            "115/115 [==============================] - 74s 637ms/step - loss: 5.2763\n",
            "Epoch 7/70\n",
            "115/115 [==============================] - ETA: 0s - loss: 5.0941\n",
            "Epoch 7: loss improved from 5.27630 to 5.09412, saving model to next_words.h5\n",
            "115/115 [==============================] - 74s 646ms/step - loss: 5.0941\n",
            "Epoch 8/70\n",
            "115/115 [==============================] - ETA: 0s - loss: 4.9339\n",
            "Epoch 8: loss improved from 5.09412 to 4.93385, saving model to next_words.h5\n",
            "115/115 [==============================] - 72s 624ms/step - loss: 4.9339\n",
            "Epoch 9/70\n",
            "115/115 [==============================] - ETA: 0s - loss: 4.7545\n",
            "Epoch 9: loss improved from 4.93385 to 4.75452, saving model to next_words.h5\n",
            "115/115 [==============================] - 75s 648ms/step - loss: 4.7545\n",
            "Epoch 10/70\n",
            "115/115 [==============================] - ETA: 0s - loss: 4.5915\n",
            "Epoch 10: loss improved from 4.75452 to 4.59147, saving model to next_words.h5\n",
            "115/115 [==============================] - 76s 660ms/step - loss: 4.5915\n",
            "Epoch 11/70\n",
            "115/115 [==============================] - ETA: 0s - loss: 4.4196\n",
            "Epoch 11: loss improved from 4.59147 to 4.41963, saving model to next_words.h5\n",
            "115/115 [==============================] - 73s 638ms/step - loss: 4.4196\n",
            "Epoch 12/70\n",
            "115/115 [==============================] - ETA: 0s - loss: 4.2540\n",
            "Epoch 12: loss improved from 4.41963 to 4.25399, saving model to next_words.h5\n",
            "115/115 [==============================] - 73s 636ms/step - loss: 4.2540\n",
            "Epoch 13/70\n",
            "115/115 [==============================] - ETA: 0s - loss: 4.0597\n",
            "Epoch 13: loss improved from 4.25399 to 4.05972, saving model to next_words.h5\n",
            "115/115 [==============================] - 73s 631ms/step - loss: 4.0597\n",
            "Epoch 14/70\n",
            "115/115 [==============================] - ETA: 0s - loss: 3.8815\n",
            "Epoch 14: loss improved from 4.05972 to 3.88146, saving model to next_words.h5\n",
            "115/115 [==============================] - 72s 623ms/step - loss: 3.8815\n",
            "Epoch 15/70\n",
            "115/115 [==============================] - ETA: 0s - loss: 3.6602\n",
            "Epoch 15: loss improved from 3.88146 to 3.66024, saving model to next_words.h5\n",
            "115/115 [==============================] - 72s 627ms/step - loss: 3.6602\n",
            "Epoch 16/70\n",
            "115/115 [==============================] - ETA: 0s - loss: 3.4319\n",
            "Epoch 16: loss improved from 3.66024 to 3.43189, saving model to next_words.h5\n",
            "115/115 [==============================] - 74s 643ms/step - loss: 3.4319\n",
            "Epoch 17/70\n",
            "115/115 [==============================] - ETA: 0s - loss: 3.2052\n",
            "Epoch 17: loss improved from 3.43189 to 3.20518, saving model to next_words.h5\n",
            "115/115 [==============================] - 74s 641ms/step - loss: 3.2052\n",
            "Epoch 18/70\n",
            "115/115 [==============================] - ETA: 0s - loss: 2.9657\n",
            "Epoch 18: loss improved from 3.20518 to 2.96574, saving model to next_words.h5\n",
            "115/115 [==============================] - 76s 659ms/step - loss: 2.9657\n",
            "Epoch 19/70\n",
            "115/115 [==============================] - ETA: 0s - loss: 2.7313\n",
            "Epoch 19: loss improved from 2.96574 to 2.73132, saving model to next_words.h5\n",
            "115/115 [==============================] - 73s 637ms/step - loss: 2.7313\n",
            "Epoch 20/70\n",
            "115/115 [==============================] - ETA: 0s - loss: 2.4963\n",
            "Epoch 20: loss improved from 2.73132 to 2.49627, saving model to next_words.h5\n",
            "115/115 [==============================] - 73s 634ms/step - loss: 2.4963\n",
            "Epoch 21/70\n",
            "115/115 [==============================] - ETA: 0s - loss: 2.2622\n",
            "Epoch 21: loss improved from 2.49627 to 2.26219, saving model to next_words.h5\n",
            "115/115 [==============================] - 73s 635ms/step - loss: 2.2622\n",
            "Epoch 22/70\n",
            "115/115 [==============================] - ETA: 0s - loss: 2.0439\n",
            "Epoch 22: loss improved from 2.26219 to 2.04393, saving model to next_words.h5\n",
            "115/115 [==============================] - 74s 644ms/step - loss: 2.0439\n",
            "Epoch 23/70\n",
            "115/115 [==============================] - ETA: 0s - loss: 1.8289\n",
            "Epoch 23: loss improved from 2.04393 to 1.82892, saving model to next_words.h5\n",
            "115/115 [==============================] - 73s 639ms/step - loss: 1.8289\n",
            "Epoch 24/70\n",
            "115/115 [==============================] - ETA: 0s - loss: 1.6591\n",
            "Epoch 24: loss improved from 1.82892 to 1.65908, saving model to next_words.h5\n",
            "115/115 [==============================] - 73s 635ms/step - loss: 1.6591\n",
            "Epoch 25/70\n",
            "115/115 [==============================] - ETA: 0s - loss: 1.4793\n",
            "Epoch 25: loss improved from 1.65908 to 1.47926, saving model to next_words.h5\n",
            "115/115 [==============================] - 73s 637ms/step - loss: 1.4793\n",
            "Epoch 26/70\n",
            "115/115 [==============================] - ETA: 0s - loss: 1.3077\n",
            "Epoch 26: loss improved from 1.47926 to 1.30772, saving model to next_words.h5\n",
            "115/115 [==============================] - 80s 693ms/step - loss: 1.3077\n",
            "Epoch 27/70\n",
            "115/115 [==============================] - ETA: 0s - loss: 1.1436\n",
            "Epoch 27: loss improved from 1.30772 to 1.14358, saving model to next_words.h5\n",
            "115/115 [==============================] - 72s 624ms/step - loss: 1.1436\n",
            "Epoch 28/70\n",
            "115/115 [==============================] - ETA: 0s - loss: 0.9958\n",
            "Epoch 28: loss improved from 1.14358 to 0.99583, saving model to next_words.h5\n",
            "115/115 [==============================] - 71s 619ms/step - loss: 0.9958\n",
            "Epoch 29/70\n",
            "115/115 [==============================] - ETA: 0s - loss: 0.8871\n",
            "Epoch 29: loss improved from 0.99583 to 0.88715, saving model to next_words.h5\n",
            "115/115 [==============================] - 71s 616ms/step - loss: 0.8871\n",
            "Epoch 30/70\n",
            "115/115 [==============================] - ETA: 0s - loss: 0.7870\n",
            "Epoch 30: loss improved from 0.88715 to 0.78699, saving model to next_words.h5\n",
            "115/115 [==============================] - 71s 612ms/step - loss: 0.7870\n",
            "Epoch 31/70\n",
            "115/115 [==============================] - ETA: 0s - loss: 0.6886\n",
            "Epoch 31: loss improved from 0.78699 to 0.68860, saving model to next_words.h5\n",
            "115/115 [==============================] - 72s 626ms/step - loss: 0.6886\n",
            "Epoch 32/70\n",
            "115/115 [==============================] - ETA: 0s - loss: 0.5986\n",
            "Epoch 32: loss improved from 0.68860 to 0.59856, saving model to next_words.h5\n",
            "115/115 [==============================] - 73s 631ms/step - loss: 0.5986\n",
            "Epoch 33/70\n",
            "115/115 [==============================] - ETA: 0s - loss: 0.5220\n",
            "Epoch 33: loss improved from 0.59856 to 0.52198, saving model to next_words.h5\n",
            "115/115 [==============================] - 71s 620ms/step - loss: 0.5220\n",
            "Epoch 34/70\n",
            "115/115 [==============================] - ETA: 0s - loss: 0.4764\n",
            "Epoch 34: loss improved from 0.52198 to 0.47635, saving model to next_words.h5\n",
            "115/115 [==============================] - 71s 616ms/step - loss: 0.4764\n",
            "Epoch 35/70\n",
            "115/115 [==============================] - ETA: 0s - loss: 0.4285\n",
            "Epoch 35: loss improved from 0.47635 to 0.42849, saving model to next_words.h5\n",
            "115/115 [==============================] - 75s 649ms/step - loss: 0.4285\n",
            "Epoch 36/70\n",
            "115/115 [==============================] - ETA: 0s - loss: 0.3908\n",
            "Epoch 36: loss improved from 0.42849 to 0.39077, saving model to next_words.h5\n",
            "115/115 [==============================] - 71s 619ms/step - loss: 0.3908\n",
            "Epoch 37/70\n",
            "115/115 [==============================] - ETA: 0s - loss: 0.3511\n",
            "Epoch 37: loss improved from 0.39077 to 0.35113, saving model to next_words.h5\n",
            "115/115 [==============================] - 71s 619ms/step - loss: 0.3511\n",
            "Epoch 38/70\n",
            "115/115 [==============================] - ETA: 0s - loss: 0.3195\n",
            "Epoch 38: loss improved from 0.35113 to 0.31953, saving model to next_words.h5\n",
            "115/115 [==============================] - 71s 621ms/step - loss: 0.3195\n",
            "Epoch 39/70\n",
            "115/115 [==============================] - ETA: 0s - loss: 0.3207\n",
            "Epoch 39: loss did not improve from 0.31953\n",
            "115/115 [==============================] - 70s 611ms/step - loss: 0.3207\n",
            "Epoch 40/70\n",
            "115/115 [==============================] - ETA: 0s - loss: 0.2930\n",
            "Epoch 40: loss improved from 0.31953 to 0.29301, saving model to next_words.h5\n",
            "115/115 [==============================] - 71s 620ms/step - loss: 0.2930\n",
            "Epoch 41/70\n",
            "115/115 [==============================] - ETA: 0s - loss: 0.2791\n",
            "Epoch 41: loss improved from 0.29301 to 0.27910, saving model to next_words.h5\n",
            "115/115 [==============================] - 72s 624ms/step - loss: 0.2791\n",
            "Epoch 42/70\n",
            "115/115 [==============================] - ETA: 0s - loss: 0.2739\n",
            "Epoch 42: loss improved from 0.27910 to 0.27394, saving model to next_words.h5\n",
            "115/115 [==============================] - 70s 611ms/step - loss: 0.2739\n",
            "Epoch 43/70\n",
            "115/115 [==============================] - ETA: 0s - loss: 0.2720\n",
            "Epoch 43: loss improved from 0.27394 to 0.27204, saving model to next_words.h5\n",
            "115/115 [==============================] - 75s 649ms/step - loss: 0.2720\n",
            "Epoch 44/70\n",
            "115/115 [==============================] - ETA: 0s - loss: 0.2712\n",
            "Epoch 44: loss improved from 0.27204 to 0.27118, saving model to next_words.h5\n",
            "115/115 [==============================] - 72s 626ms/step - loss: 0.2712\n",
            "Epoch 45/70\n",
            "115/115 [==============================] - ETA: 0s - loss: 0.2595\n",
            "Epoch 45: loss improved from 0.27118 to 0.25954, saving model to next_words.h5\n",
            "115/115 [==============================] - 71s 617ms/step - loss: 0.2595\n",
            "Epoch 46/70\n",
            "115/115 [==============================] - ETA: 0s - loss: 0.2558\n",
            "Epoch 46: loss improved from 0.25954 to 0.25585, saving model to next_words.h5\n",
            "115/115 [==============================] - 69s 602ms/step - loss: 0.2558\n",
            "Epoch 47/70\n",
            "115/115 [==============================] - ETA: 0s - loss: 0.2421\n",
            "Epoch 47: loss improved from 0.25585 to 0.24214, saving model to next_words.h5\n",
            "115/115 [==============================] - 70s 611ms/step - loss: 0.2421\n",
            "Epoch 48/70\n",
            "115/115 [==============================] - ETA: 0s - loss: 0.2491\n",
            "Epoch 48: loss did not improve from 0.24214\n",
            "115/115 [==============================] - 71s 614ms/step - loss: 0.2491\n",
            "Epoch 49/70\n",
            "115/115 [==============================] - ETA: 0s - loss: 0.2487\n",
            "Epoch 49: loss did not improve from 0.24214\n",
            "115/115 [==============================] - 70s 609ms/step - loss: 0.2487\n",
            "Epoch 50/70\n",
            "115/115 [==============================] - ETA: 0s - loss: 0.2789\n",
            "Epoch 50: loss did not improve from 0.24214\n",
            "115/115 [==============================] - 71s 616ms/step - loss: 0.2789\n",
            "Epoch 51/70\n",
            "115/115 [==============================] - ETA: 0s - loss: 0.3173\n",
            "Epoch 51: loss did not improve from 0.24214\n",
            "115/115 [==============================] - 72s 629ms/step - loss: 0.3173\n",
            "Epoch 52/70\n",
            "115/115 [==============================] - ETA: 0s - loss: 0.3004\n",
            "Epoch 52: loss did not improve from 0.24214\n",
            "115/115 [==============================] - 75s 653ms/step - loss: 0.3004\n",
            "Epoch 53/70\n",
            "115/115 [==============================] - ETA: 0s - loss: 0.3219\n",
            "Epoch 53: loss did not improve from 0.24214\n",
            "115/115 [==============================] - 71s 620ms/step - loss: 0.3219\n",
            "Epoch 54/70\n",
            "115/115 [==============================] - ETA: 0s - loss: 0.2853\n",
            "Epoch 54: loss did not improve from 0.24214\n",
            "115/115 [==============================] - 72s 625ms/step - loss: 0.2853\n",
            "Epoch 55/70\n",
            "115/115 [==============================] - ETA: 0s - loss: 0.2373\n",
            "Epoch 55: loss improved from 0.24214 to 0.23734, saving model to next_words.h5\n",
            "115/115 [==============================] - 75s 648ms/step - loss: 0.2373\n",
            "Epoch 56/70\n",
            "115/115 [==============================] - ETA: 0s - loss: 0.2245\n",
            "Epoch 56: loss improved from 0.23734 to 0.22445, saving model to next_words.h5\n",
            "115/115 [==============================] - 71s 621ms/step - loss: 0.2245\n",
            "Epoch 57/70\n",
            "115/115 [==============================] - ETA: 0s - loss: 0.2015\n",
            "Epoch 57: loss improved from 0.22445 to 0.20148, saving model to next_words.h5\n",
            "115/115 [==============================] - 71s 614ms/step - loss: 0.2015\n",
            "Epoch 58/70\n",
            "115/115 [==============================] - ETA: 0s - loss: 0.1847\n",
            "Epoch 58: loss improved from 0.20148 to 0.18470, saving model to next_words.h5\n",
            "115/115 [==============================] - 71s 611ms/step - loss: 0.1847\n",
            "Epoch 59/70\n",
            "115/115 [==============================] - ETA: 0s - loss: 0.1783\n",
            "Epoch 59: loss improved from 0.18470 to 0.17829, saving model to next_words.h5\n",
            "115/115 [==============================] - 71s 620ms/step - loss: 0.1783\n",
            "Epoch 60/70\n",
            "115/115 [==============================] - ETA: 0s - loss: 0.1738\n",
            "Epoch 60: loss improved from 0.17829 to 0.17382, saving model to next_words.h5\n",
            "115/115 [==============================] - 71s 618ms/step - loss: 0.1738\n",
            "Epoch 61/70\n",
            "115/115 [==============================] - ETA: 0s - loss: 0.1750\n",
            "Epoch 61: loss did not improve from 0.17382\n",
            "115/115 [==============================] - 70s 609ms/step - loss: 0.1750\n",
            "Epoch 62/70\n",
            "115/115 [==============================] - ETA: 0s - loss: 0.1714\n",
            "Epoch 62: loss improved from 0.17382 to 0.17142, saving model to next_words.h5\n",
            "115/115 [==============================] - 71s 617ms/step - loss: 0.1714\n",
            "Epoch 63/70\n",
            "115/115 [==============================] - ETA: 0s - loss: 0.1685\n",
            "Epoch 63: loss improved from 0.17142 to 0.16849, saving model to next_words.h5\n",
            "115/115 [==============================] - 70s 604ms/step - loss: 0.1685\n",
            "Epoch 64/70\n",
            "115/115 [==============================] - ETA: 0s - loss: 0.1663\n",
            "Epoch 64: loss improved from 0.16849 to 0.16627, saving model to next_words.h5\n",
            "115/115 [==============================] - 74s 645ms/step - loss: 0.1663\n",
            "Epoch 65/70\n",
            "115/115 [==============================] - ETA: 0s - loss: 0.1750\n",
            "Epoch 65: loss did not improve from 0.16627\n",
            "115/115 [==============================] - 70s 609ms/step - loss: 0.1750\n",
            "Epoch 66/70\n",
            "115/115 [==============================] - ETA: 0s - loss: 0.2184\n",
            "Epoch 66: loss did not improve from 0.16627\n",
            "115/115 [==============================] - 70s 606ms/step - loss: 0.2184\n",
            "Epoch 67/70\n",
            "115/115 [==============================] - ETA: 0s - loss: 0.3214\n",
            "Epoch 67: loss did not improve from 0.16627\n",
            "115/115 [==============================] - 68s 586ms/step - loss: 0.3214\n",
            "Epoch 68/70\n",
            "115/115 [==============================] - ETA: 0s - loss: 0.3322\n",
            "Epoch 68: loss did not improve from 0.16627\n",
            "115/115 [==============================] - 72s 624ms/step - loss: 0.3322\n",
            "Epoch 69/70\n",
            "115/115 [==============================] - ETA: 0s - loss: 0.3283\n",
            "Epoch 69: loss did not improve from 0.16627\n",
            "115/115 [==============================] - 71s 614ms/step - loss: 0.3283\n",
            "Epoch 70/70\n",
            "115/115 [==============================] - ETA: 0s - loss: 0.2700\n",
            "Epoch 70: loss did not improve from 0.16627\n",
            "115/115 [==============================] - 71s 615ms/step - loss: 0.2700\n"
          ]
        },
        {
          "output_type": "execute_result",
          "data": {
            "text/plain": [
              "<keras.callbacks.History at 0x7f2313b472b0>"
            ]
          },
          "metadata": {},
          "execution_count": 49
        }
      ]
    },
    {
      "cell_type": "markdown",
      "source": [
        "Predict the model"
      ],
      "metadata": {
        "id": "51bM-eRyUmBY"
      }
    },
    {
      "cell_type": "code",
      "source": [
        "from tensorflow.keras.models import load_model\n",
        "import numpy as np\n",
        "import pickle\n",
        "\n",
        "# Load the model and tokenizer\n",
        "model = load_model('next_words.h5')\n",
        "tokenizer = pickle.load(open('token.pkl', 'rb'))\n",
        "\n",
        "def Predict_Next_Words(model, tokenizer, text):\n",
        "\n",
        "  sequence = tokenizer.texts_to_sequences([text])\n",
        "  sequence = np.array(sequence)\n",
        "  preds = np.argmax(model.predict(sequence))\n",
        "  predicted_word = \"\"\n",
        "  \n",
        "  for key, value in tokenizer.word_index.items():\n",
        "      if value == preds:\n",
        "          predicted_word = key\n",
        "          break\n",
        "  \n",
        "  print(predicted_word)\n",
        "  return predicted_word"
      ],
      "metadata": {
        "id": "a_AMApGMT8qX"
      },
      "execution_count": 50,
      "outputs": []
    },
    {
      "cell_type": "code",
      "source": [
        "while(True):\n",
        "  text = input(\"Enter your line: \")\n",
        "  \n",
        "  if text == \"0\":\n",
        "      print(\"Execution completed.....\")\n",
        "      break\n",
        "  \n",
        "  else:\n",
        "      try:\n",
        "          text = text.split(\" \")\n",
        "          text = text[-3:]\n",
        "          print(text)\n",
        "        \n",
        "          Predict_Next_Words(model, tokenizer, text)\n",
        "          \n",
        "      except Exception as e:\n",
        "        print(\"Error occurred: \",e)\n",
        "        continue"
      ],
      "metadata": {
        "colab": {
          "base_uri": "https://localhost:8080/"
        },
        "id": "Yi9MyzthUB3I",
        "outputId": "42c1ed7e-a354-4c74-e683-dc65f6447bb7"
      },
      "execution_count": 51,
      "outputs": [
        {
          "output_type": "stream",
          "name": "stdout",
          "text": [
            "Enter your line: at the dull\n",
            "['at', 'the', 'dull']\n",
            "1/1 [==============================] - 1s 967ms/step\n",
            "weather\n",
            "Enter your line: And why was she\n",
            "['why', 'was', 'she']\n",
            "1/1 [==============================] - 0s 52ms/step\n",
            "crying\n",
            "Enter your line: leave him now in\n",
            "['him', 'now', 'in']\n",
            "1/1 [==============================] - 0s 41ms/step\n",
            "peace\n",
            "Enter your line: 0\n",
            "Execution completed.....\n"
          ]
        }
      ]
    }
  ]
}